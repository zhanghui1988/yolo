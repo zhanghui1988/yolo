{
 "cells": [
  {
   "cell_type": "code",
   "execution_count": 2,
   "metadata": {},
   "outputs": [],
   "source": [
    "import os"
   ]
  },
  {
   "cell_type": "code",
   "execution_count": null,
   "metadata": {},
   "outputs": [],
   "source": [
    "import os\n",
    "import cv2 as cv\n",
    "import json\n",
    "img_floder = \"/Users/zhanghui/Documents/study/yolo/yolov5-master/data/dataset/train/images\"\n",
    "label_floder = \"/Users/zhanghui/Documents/study/yolo/yolov5-master/data/dataset/train/labels\""
   ]
  }
 ],
 "metadata": {
  "kernelspec": {
   "display_name": "alitt7",
   "language": "python",
   "name": "python3"
  },
  "language_info": {
   "codemirror_mode": {
    "name": "ipython",
    "version": 3
   },
   "file_extension": ".py",
   "mimetype": "text/x-python",
   "name": "python",
   "nbconvert_exporter": "python",
   "pygments_lexer": "ipython3",
   "version": "3.8.20"
  }
 },
 "nbformat": 4,
 "nbformat_minor": 2
}
